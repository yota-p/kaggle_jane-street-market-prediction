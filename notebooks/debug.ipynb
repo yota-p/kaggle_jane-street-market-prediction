{
 "cells": [
  {
   "cell_type": "code",
   "execution_count": 1,
   "metadata": {},
   "outputs": [
    {
     "output_type": "execute_result",
     "data": {
      "text/plain": [
       "'/home/yh/git/kaggle_jane-street-market-prediction/notebooks'"
      ]
     },
     "metadata": {},
     "execution_count": 1
    }
   ],
   "source": [
    "%pwd"
   ]
  },
  {
   "cell_type": "code",
   "execution_count": 2,
   "metadata": {},
   "outputs": [],
   "source": [
    "import pandas as pd\n",
    "import numpy as np\n",
    "\n",
    "DATA_DIR = '../data/tmp'\n",
    "\n",
    "sub_v9 = pd.read_csv(f'{DATA_DIR}/v9/submission.csv')\n",
    "sub_v12 = pd.read_csv(f'{DATA_DIR}/v12/submission.csv')"
   ]
  },
  {
   "source": [
    "len(sub_v9), sub_v9.action.sum()"
   ],
   "cell_type": "code",
   "metadata": {},
   "execution_count": 3,
   "outputs": [
    {
     "output_type": "execute_result",
     "data": {
      "text/plain": [
       "(15219, 8176)"
      ]
     },
     "metadata": {},
     "execution_count": 3
    }
   ]
  },
  {
   "cell_type": "code",
   "execution_count": 4,
   "metadata": {},
   "outputs": [
    {
     "output_type": "execute_result",
     "data": {
      "text/plain": [
       "(15219, 12286)"
      ]
     },
     "metadata": {},
     "execution_count": 4
    }
   ],
   "source": [
    "len(sub_v12), sub_v12.action.sum()"
   ]
  },
  {
   "cell_type": "code",
   "execution_count": 26,
   "metadata": {
    "tags": []
   },
   "outputs": [],
   "source": [
    "sub_mult = np.zeros(sub_v9.action.shape)\n",
    "for i in range(len(sub_v9)):\n",
    "    sub_mult[i] = sub_v9.action.values[i] + sub_v12.action.values[i]"
   ]
  },
  {
   "cell_type": "code",
   "execution_count": 11,
   "metadata": {},
   "outputs": [
    {
     "output_type": "stream",
     "name": "stdout",
     "text": [
      "[14:33:40] WARNING: ../src/gbm/gbtree.cc:343: Loading from a raw memory buffer on CPU only machine.  Changing tree_method to hist.\n",
      "[14:33:40] WARNING: ../src/learner.cc:207: No visible GPU is found, setting `gpu_id` to -1\n",
      "[14:33:40] WARNING: ../src/gbm/gbtree.cc:343: Loading from a raw memory buffer on CPU only machine.  Changing tree_method to hist.\n",
      "[14:33:40] WARNING: ../src/learner.cc:207: No visible GPU is found, setting `gpu_id` to -1\n",
      "[14:33:40] WARNING: ../src/gbm/gbtree.cc:343: Loading from a raw memory buffer on CPU only machine.  Changing tree_method to hist.\n",
      "[14:33:40] WARNING: ../src/learner.cc:207: No visible GPU is found, setting `gpu_id` to -1\n",
      "[14:33:40] WARNING: ../src/gbm/gbtree.cc:343: Loading from a raw memory buffer on CPU only machine.  Changing tree_method to hist.\n",
      "[14:33:40] WARNING: ../src/learner.cc:207: No visible GPU is found, setting `gpu_id` to -1\n"
     ]
    }
   ],
   "source": [
    "model_v9 = pd.read_pickle(f'{DATA_DIR}/v9/model.pkl')\n",
    "model_v12 = [None, None, None]\n",
    "model_v12[0] = pd.read_pickle(f'{DATA_DIR}/v12/model_0.pkl')\n",
    "model_v12[1] = pd.read_pickle(f'{DATA_DIR}/v12/model_1.pkl')\n",
    "model_v12[2] = pd.read_pickle(f'{DATA_DIR}/v12/model_2.pkl')"
   ]
  },
  {
   "cell_type": "code",
   "execution_count": 16,
   "metadata": {},
   "outputs": [],
   "source": [
    "param_v9 = model_v9.get_params()"
   ]
  },
  {
   "cell_type": "code",
   "execution_count": 17,
   "metadata": {},
   "outputs": [],
   "source": [
    "param_v12 = model_v12[0].get_params()"
   ]
  },
  {
   "cell_type": "code",
   "execution_count": 18,
   "metadata": {},
   "outputs": [],
   "source": [
    "for k, v in param_v9.items():\n",
    "    if not param_v9[k] == param_v9[k]:\n",
    "        print(k)"
   ]
  }
 ],
 "metadata": {
  "kernelspec": {
   "display_name": "Python 3",
   "language": "python",
   "name": "python3"
  },
  "language_info": {
   "codemirror_mode": {
    "name": "ipython",
    "version": 3
   },
   "file_extension": ".py",
   "mimetype": "text/x-python",
   "name": "python",
   "nbconvert_exporter": "python",
   "pygments_lexer": "ipython3",
   "version": "3.7.6-final"
  }
 },
 "nbformat": 4,
 "nbformat_minor": 4
}